{
 "cells": [
  {
   "cell_type": "markdown",
   "id": "513174b9",
   "metadata": {},
   "source": [
    "### Naive Bayes Spam Ham By Saliq Gowhar"
   ]
  },
  {
   "cell_type": "code",
   "execution_count": 1,
   "id": "d466bc68",
   "metadata": {},
   "outputs": [],
   "source": [
    "#First we import the necessary libraries and read the dataset"
   ]
  },
  {
   "cell_type": "code",
   "execution_count": 69,
   "id": "42b383ea",
   "metadata": {},
   "outputs": [
    {
     "data": {
      "text/html": [
       "<div>\n",
       "<style scoped>\n",
       "    .dataframe tbody tr th:only-of-type {\n",
       "        vertical-align: middle;\n",
       "    }\n",
       "\n",
       "    .dataframe tbody tr th {\n",
       "        vertical-align: top;\n",
       "    }\n",
       "\n",
       "    .dataframe thead th {\n",
       "        text-align: right;\n",
       "    }\n",
       "</style>\n",
       "<table border=\"1\" class=\"dataframe\">\n",
       "  <thead>\n",
       "    <tr style=\"text-align: right;\">\n",
       "      <th></th>\n",
       "      <th>Unnamed: 0</th>\n",
       "      <th>label</th>\n",
       "      <th>text</th>\n",
       "      <th>label_num</th>\n",
       "    </tr>\n",
       "  </thead>\n",
       "  <tbody>\n",
       "    <tr>\n",
       "      <th>0</th>\n",
       "      <td>605</td>\n",
       "      <td>ham</td>\n",
       "      <td>Subject: enron methanol ; meter # : 988291\\r\\n...</td>\n",
       "      <td>0</td>\n",
       "    </tr>\n",
       "    <tr>\n",
       "      <th>1</th>\n",
       "      <td>2349</td>\n",
       "      <td>ham</td>\n",
       "      <td>Subject: hpl nom for january 9 , 2001\\r\\n( see...</td>\n",
       "      <td>0</td>\n",
       "    </tr>\n",
       "    <tr>\n",
       "      <th>2</th>\n",
       "      <td>3624</td>\n",
       "      <td>ham</td>\n",
       "      <td>Subject: neon retreat\\r\\nho ho ho , we ' re ar...</td>\n",
       "      <td>0</td>\n",
       "    </tr>\n",
       "    <tr>\n",
       "      <th>3</th>\n",
       "      <td>4685</td>\n",
       "      <td>spam</td>\n",
       "      <td>Subject: photoshop , windows , office . cheap ...</td>\n",
       "      <td>1</td>\n",
       "    </tr>\n",
       "    <tr>\n",
       "      <th>4</th>\n",
       "      <td>2030</td>\n",
       "      <td>ham</td>\n",
       "      <td>Subject: re : indian springs\\r\\nthis deal is t...</td>\n",
       "      <td>0</td>\n",
       "    </tr>\n",
       "    <tr>\n",
       "      <th>...</th>\n",
       "      <td>...</td>\n",
       "      <td>...</td>\n",
       "      <td>...</td>\n",
       "      <td>...</td>\n",
       "    </tr>\n",
       "    <tr>\n",
       "      <th>5166</th>\n",
       "      <td>1518</td>\n",
       "      <td>ham</td>\n",
       "      <td>Subject: put the 10 on the ft\\r\\nthe transport...</td>\n",
       "      <td>0</td>\n",
       "    </tr>\n",
       "    <tr>\n",
       "      <th>5167</th>\n",
       "      <td>404</td>\n",
       "      <td>ham</td>\n",
       "      <td>Subject: 3 / 4 / 2000 and following noms\\r\\nhp...</td>\n",
       "      <td>0</td>\n",
       "    </tr>\n",
       "    <tr>\n",
       "      <th>5168</th>\n",
       "      <td>2933</td>\n",
       "      <td>ham</td>\n",
       "      <td>Subject: calpine daily gas nomination\\r\\n&gt;\\r\\n...</td>\n",
       "      <td>0</td>\n",
       "    </tr>\n",
       "    <tr>\n",
       "      <th>5169</th>\n",
       "      <td>1409</td>\n",
       "      <td>ham</td>\n",
       "      <td>Subject: industrial worksheets for august 2000...</td>\n",
       "      <td>0</td>\n",
       "    </tr>\n",
       "    <tr>\n",
       "      <th>5170</th>\n",
       "      <td>4807</td>\n",
       "      <td>spam</td>\n",
       "      <td>Subject: important online banking alert\\r\\ndea...</td>\n",
       "      <td>1</td>\n",
       "    </tr>\n",
       "  </tbody>\n",
       "</table>\n",
       "<p>5171 rows × 4 columns</p>\n",
       "</div>"
      ],
      "text/plain": [
       "      Unnamed: 0 label                                               text  \\\n",
       "0            605   ham  Subject: enron methanol ; meter # : 988291\\r\\n...   \n",
       "1           2349   ham  Subject: hpl nom for january 9 , 2001\\r\\n( see...   \n",
       "2           3624   ham  Subject: neon retreat\\r\\nho ho ho , we ' re ar...   \n",
       "3           4685  spam  Subject: photoshop , windows , office . cheap ...   \n",
       "4           2030   ham  Subject: re : indian springs\\r\\nthis deal is t...   \n",
       "...          ...   ...                                                ...   \n",
       "5166        1518   ham  Subject: put the 10 on the ft\\r\\nthe transport...   \n",
       "5167         404   ham  Subject: 3 / 4 / 2000 and following noms\\r\\nhp...   \n",
       "5168        2933   ham  Subject: calpine daily gas nomination\\r\\n>\\r\\n...   \n",
       "5169        1409   ham  Subject: industrial worksheets for august 2000...   \n",
       "5170        4807  spam  Subject: important online banking alert\\r\\ndea...   \n",
       "\n",
       "      label_num  \n",
       "0             0  \n",
       "1             0  \n",
       "2             0  \n",
       "3             1  \n",
       "4             0  \n",
       "...         ...  \n",
       "5166          0  \n",
       "5167          0  \n",
       "5168          0  \n",
       "5169          0  \n",
       "5170          1  \n",
       "\n",
       "[5171 rows x 4 columns]"
      ]
     },
     "execution_count": 69,
     "metadata": {},
     "output_type": "execute_result"
    }
   ],
   "source": [
    "import pandas as pd\n",
    "import numpy as np\n",
    "from sklearn.model_selection import train_test_split\n",
    "from sklearn.feature_extraction.text import CountVectorizer\n",
    "from sklearn.naive_bayes import MultinomialNB\n",
    "f ='spam_ham_dataset.csv.xls'\n",
    "spam_df=pd.read_csv(f)\n",
    "spam_df"
   ]
  },
  {
   "cell_type": "markdown",
   "id": "7a19e4a2",
   "metadata": {},
   "source": [
    "### Naive Bayes by Saliq Gowhar"
   ]
  },
  {
   "cell_type": "code",
   "execution_count": 2,
   "id": "cc2a4a9f",
   "metadata": {},
   "outputs": [],
   "source": [
    "#Split the dataset into training and testing sets and appl the count vectorizer to create the frequency array"
   ]
  },
  {
   "cell_type": "code",
   "execution_count": 86,
   "id": "a24038ed",
   "metadata": {},
   "outputs": [],
   "source": [
    "x_train,x_test,y_train,y_test=train_test_split(spam_df.text,spam_df.label_num, test_size=0.33,random_state=42)"
   ]
  },
  {
   "cell_type": "code",
   "execution_count": 87,
   "id": "c739bf4a",
   "metadata": {},
   "outputs": [
    {
     "data": {
      "text/plain": [
       "array([[0, 0, 0, ..., 0, 0, 0],\n",
       "       [0, 5, 0, ..., 0, 0, 0],\n",
       "       [0, 0, 0, ..., 0, 0, 0],\n",
       "       ...,\n",
       "       [0, 0, 0, ..., 0, 0, 0],\n",
       "       [0, 0, 0, ..., 0, 0, 0],\n",
       "       [5, 0, 0, ..., 0, 0, 0]], dtype=int64)"
      ]
     },
     "execution_count": 87,
     "metadata": {},
     "output_type": "execute_result"
    }
   ],
   "source": [
    "cv=CountVectorizer()\n",
    "x_tc=cv.fit_transform(x_train.values)\n",
    "x_tc.toarray()"
   ]
  },
  {
   "cell_type": "code",
   "execution_count": 3,
   "id": "f4007644",
   "metadata": {},
   "outputs": [],
   "source": [
    "# use the multinomial Naive Bayes instead of Gaussian "
   ]
  },
  {
   "cell_type": "code",
   "execution_count": 88,
   "id": "26b436b7",
   "metadata": {},
   "outputs": [
    {
     "data": {
      "text/plain": [
       "MultinomialNB()"
      ]
     },
     "execution_count": 88,
     "metadata": {},
     "output_type": "execute_result"
    }
   ],
   "source": [
    "model_used=MultinomialNB()\n",
    "model_used.fit(x_tc,y_train)"
   ]
  },
  {
   "cell_type": "code",
   "execution_count": 128,
   "id": "4d78d548",
   "metadata": {},
   "outputs": [
    {
     "name": "stdout",
     "output_type": "stream",
     "text": [
      "[0 1 0 ... 0 1 0]\n",
      "0.9765670767428236\n",
      "              precision    recall  f1-score   support\n",
      "\n",
      "           0       0.98      0.99      0.98      1246\n",
      "           1       0.96      0.95      0.96       461\n",
      "\n",
      "    accuracy                           0.98      1707\n",
      "   macro avg       0.97      0.97      0.97      1707\n",
      "weighted avg       0.98      0.98      0.98      1707\n",
      "\n"
     ]
    }
   ],
   "source": [
    "x_tc=cv.transform(x_test)\n",
    "from sklearn.metrics import classification_report, recall_score, precision_score, accuracy_score, f1_score\n",
    "accuracy_actual = model_used.score(x_tc, y_test)\n",
    "predict_actual = model_used.predict(x_tc) \n",
    "classification_report_actual = classification_report(y_test, predict_actual)\n",
    "print(predict_actual, accuracy_actual, classification_report_actual, sep ='\\n')"
   ]
  },
  {
   "cell_type": "code",
   "execution_count": 4,
   "id": "df7bd088",
   "metadata": {},
   "outputs": [],
   "source": [
    "#plot the consfusion matrix and calculate the sensitivity and specificity"
   ]
  },
  {
   "cell_type": "code",
   "execution_count": 142,
   "id": "93ed156e",
   "metadata": {},
   "outputs": [
    {
     "name": "stdout",
     "output_type": "stream",
     "text": [
      "Sensitivity=0.9522776572668112\n",
      "Specificity=0.985553772070626\n"
     ]
    },
    {
     "data": {
      "image/png": "[encoded data removed]",
      "text/plain": [
       "<Figure size 640x480 with 2 Axes>"
      ]
     },
     "metadata": {},
     "output_type": "display_data"
    },
    {
     "data": {
      "image/png": "[encoded data removed]",
      "text/plain": [
       "<Figure size 600x600 with 1 Axes>"
      ]
     },
     "metadata": {},
     "output_type": "display_data"
    }
   ],
   "source": [
    "from sklearn.metrics import confusion_matrix, ConfusionMatrixDisplay\n",
    "from sklearn.datasets import make_classification\n",
    "import matplotlib.pyplot as plt\n",
    "predictions = model_used.predict(x_tc)\n",
    "cmt = confusion_matrix(y_test, predictions, labels=model_used.classes_)\n",
    "dp = ConfusionMatrixDisplay(confusion_matrix=cmt,display_labels=model_used.classes_)\n",
    "dp.plot()\n",
    "TruePos = cmt[1,1] \n",
    "TrueNeg = cmt[0,0] \n",
    "FalsePos = cmt[0,1] \n",
    "FalseNeg = cmt[1,0] \n",
    "print(\"Sensitivity=\"+str(TruePos/ float(TruePos+FalseNeg)))\n",
    "print(\"Specificity=\"+str(TrueNeg/ float(FalsePos+TrueNeg)))\n",
    "data = {'Sensitivity':(TruePos*100)/float(TruePos+FalseNeg), 'specificity':TrueNeg*100/(FalsePos+TrueNeg), 'accuracy':(TruePos+TrueNeg)*100/(TruePos+TrueNeg+FalsePos+FalseNeg)}\n",
    "\n",
    "courses = list(data.keys())\n",
    "values = list(data.values())\n",
    "  \n",
    "fig = plt.figure(figsize = (6, 6))\n",
    "plt.bar(courses, values, color ='pink',width = 0.8)\n",
    "plt.ylim(90, 100)\n",
    "plt.xlabel(\"DIFFERENT MEASURES:-\")\n",
    "plt.ylabel(\"PERCENTAGE:-\")\n",
    "plt.title(\"CLASSIFICATION REPORTS :->\")\n",
    "plt.show()"
   ]
  },
  {
   "cell_type": "code",
   "execution_count": 139,
   "id": "14793d1e",
   "metadata": {},
   "outputs": [
    {
     "name": "stdout",
     "output_type": "stream",
     "text": [
      "Accuracy Score: 0.9765670767428236\n",
      "Precision Score: 0.9606126914660832\n",
      "Recall Score: 0.9522776572668112\n",
      "F1 Score: 0.9564270152505446\n"
     ]
    }
   ],
   "source": [
    "print('Accuracy Score: {}'.format(accuracy_score(y_test, predictions)))\n",
    "print('Precision Score: {}'.format(precision_score(y_test, predictions)))\n",
    "print('Recall Score: {}'.format(recall_score(y_test, predictions)))\n",
    "print('F1 Score: {}'.format(f1_score(y_test, predictions)))"
   ]
  },
  {
   "cell_type": "code",
   "execution_count": 140,
   "id": "5f4ba2e9",
   "metadata": {},
   "outputs": [],
   "source": [
    "from sklearn.metrics import roc_curve, auc\n",
    "\n",
    "false_positive_rate, true_positive_rate, thresholds = roc_curve(y_test, y_pred_prob[:,1])\n",
    "roc_auc = auc(false_positive_rate, true_positive_rate)"
   ]
  },
  {
   "cell_type": "code",
   "execution_count": 137,
   "id": "c4770e19",
   "metadata": {},
   "outputs": [
    {
     "data": {
      "image/png": "[encoded data removed]",
      "text/plain": [
       "<Figure size 640x480 with 1 Axes>"
      ]
     },
     "metadata": {},
     "output_type": "display_data"
    }
   ],
   "source": [
    "a = [1]\n",
    "b = [accuracy_score(y_test,y_pred)]\n",
    "plt.xlim(-0.05,1.005)\n",
    "plt.ylabel('%')\n",
    "plt.xlabel('Thresold')\n",
    "plt.title('')\n",
    "plt.plot(thresholds, true_positive_rate,'b',label = 'Sensitivity  AUC = %0.2f' % roc_auc)\n",
    "plt.plot(thresholds, 1 - false_positive_rate,'r', label = 'Specificity = 1  - FPR')\n",
    "plt.plot(a,b, \"or\",label = 'Accuracy = %0.5f' % accuracy_score(y_test,y_pred))\n",
    "plt.legend(loc = 'lower right')\n",
    "plt.show()"
   ]
  }
 ],
 "metadata": {
  "kernelspec": {
   "display_name": "Python 3 (ipykernel)",
   "language": "python",
   "name": "python3"
  },
  "language_info": {
   "codemirror_mode": {
    "name": "ipython",
    "version": 3
   },
   "file_extension": ".py",
   "mimetype": "text/x-python",
   "name": "python",
   "nbconvert_exporter": "python",
   "pygments_lexer": "ipython3",
   "version": "3.9.13"
  }
 },
 "nbformat": 4,
 "nbformat_minor": 5
}
